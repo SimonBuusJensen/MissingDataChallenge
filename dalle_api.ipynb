{
 "cells": [
  {
   "cell_type": "code",
   "execution_count": 3,
   "metadata": {},
   "outputs": [],
   "source": [
    "import os\n",
    "import openai\n",
    "import dotenv\n",
    "\n",
    "import requests\n",
    "from PIL import Image\n",
    "from io import BytesIO"
   ]
  },
  {
   "cell_type": "code",
   "execution_count": 4,
   "metadata": {},
   "outputs": [],
   "source": [
    "dotenv.load_dotenv()\n",
    "# Read the API key from the .env file (var name OPENAIKEY)\n",
    "openai.api_key = dotenv.get_key(\".env\", \"OPENAIKEY\")\n",
    "data_dir = dotenv.get_key(\".env\", \"DATADIR\")\n",
    " "
   ]
  },
  {
   "cell_type": "code",
   "execution_count": 5,
   "metadata": {},
   "outputs": [],
   "source": [
    "file_name=\"00000001_005\" "
   ]
  },
  {
   "cell_type": "code",
   "execution_count": 6,
   "metadata": {},
   "outputs": [],
   "source": [
    "output_dir = f\"{data_dir}/inference\"\n",
    "if not os.path.exists(output_dir):\n",
    "    os.makedirs(output_dir)"
   ]
  },
  {
   "cell_type": "code",
   "execution_count": 7,
   "metadata": {},
   "outputs": [],
   "source": [
    "input_img = f\"{data_dir}/masked/{file_name}_stroke_masked.png\"\n",
    "mask_img = f\"{data_dir}/masks_transparent/{file_name}_stroke_mask.png\"\n",
    "assert os.path.exists(input_img) and os.path.exists(mask_img), f\"Input or mask image does not exist: {input_img} {mask_img}\""
   ]
  },
  {
   "cell_type": "code",
   "execution_count": 16,
   "metadata": {},
   "outputs": [],
   "source": [
    "response = openai.Image.create_edit(\n",
    "  image=open(input_img, \"rb\"),\n",
    "  mask=open(mask_img, \"rb\"),\n",
    "  prompt=\"A cat\",\n",
    "  n=1,\n",
    "  size=\"512x512\"\n",
    ")"
   ]
  },
  {
   "cell_type": "code",
   "execution_count": 23,
   "metadata": {},
   "outputs": [
    {
     "name": "stdout",
     "output_type": "stream",
     "text": [
      "{\n",
      "  \"created\": 1692021492,\n",
      "  \"data\": [\n",
      "    {\n",
      "      \"url\": \"https://oaidalleapiprodscus.blob.core.windows.net/private/org-HT3tBv50XolE3OnQOlLIlmT0/user-KQ49scEsx6fQmGatHxwCQVHK/img-SvJ9ZOX9m9PCaITVWlaYLZ31.png?st=2023-08-14T12%3A58%3A12Z&se=2023-08-14T14%3A58%3A12Z&sp=r&sv=2021-08-06&sr=b&rscd=inline&rsct=image/png&skoid=6aaadede-4fb3-4698-a8f6-684d7786b067&sktid=a48cca56-e6da-484e-a814-9c849652bcb3&skt=2023-08-13T17%3A24%3A58Z&ske=2023-08-14T17%3A24%3A58Z&sks=b&skv=2021-08-06&sig=kgqLNYxEFg7i/qBbIVyuNaQNvDNwGn5dCFSPsXTsAYI%3D\"\n",
      "    }\n",
      "  ]\n",
      "}\n"
     ]
    }
   ],
   "source": [
    "print(response)"
   ]
  },
  {
   "cell_type": "code",
   "execution_count": 4,
   "metadata": {},
   "outputs": [
    {
     "ename": "NameError",
     "evalue": "name 'response' is not defined",
     "output_type": "error",
     "traceback": [
      "\u001b[0;31m---------------------------------------------------------------------------\u001b[0m",
      "\u001b[0;31mNameError\u001b[0m                                 Traceback (most recent call last)",
      "Cell \u001b[0;32mIn[4], line 1\u001b[0m\n\u001b[0;32m----> 1\u001b[0m image_url \u001b[39m=\u001b[39m response[\u001b[39m'\u001b[39m\u001b[39mdata\u001b[39m\u001b[39m'\u001b[39m][\u001b[39m0\u001b[39m][\u001b[39m'\u001b[39m\u001b[39murl\u001b[39m\u001b[39m'\u001b[39m]\n\u001b[1;32m      2\u001b[0m request_response \u001b[39m=\u001b[39m requests\u001b[39m.\u001b[39mget(image_url)\n\u001b[1;32m      3\u001b[0m img \u001b[39m=\u001b[39m Image\u001b[39m.\u001b[39mopen(BytesIO(request_response\u001b[39m.\u001b[39mcontent))\n",
      "\u001b[0;31mNameError\u001b[0m: name 'response' is not defined"
     ]
    }
   ],
   "source": [
    "image_url = response['data'][0]['url']\n",
    "request_response = requests.get(image_url)\n",
    "img = Image.open(BytesIO(request_response.content))\n",
    "\n",
    "# Resize to 360x360\n",
    "img = img.resize((360, 360), Image.LANCZOS)\n",
    "\n",
    "# Save the image\n",
    "img.save(f\"{output_dir}/{file_name}.png\")"
   ]
  },
  {
   "cell_type": "code",
   "execution_count": null,
   "metadata": {},
   "outputs": [],
   "source": []
  }
 ],
 "metadata": {
  "kernelspec": {
   "display_name": "summerschool2023",
   "language": "python",
   "name": "python3"
  },
  "language_info": {
   "codemirror_mode": {
    "name": "ipython",
    "version": 3
   },
   "file_extension": ".py",
   "mimetype": "text/x-python",
   "name": "python",
   "nbconvert_exporter": "python",
   "pygments_lexer": "ipython3",
   "version": "3.10.4"
  },
  "orig_nbformat": 4
 },
 "nbformat": 4,
 "nbformat_minor": 2
}
